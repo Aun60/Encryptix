{
 "cells": [
  {
   "cell_type": "code",
   "execution_count": 1,
   "id": "542accf7",
   "metadata": {},
   "outputs": [
    {
     "name": "stdout",
     "output_type": "stream",
     "text": [
      "Recommendations for Password length Should be Greater than 4\n",
      "Enter Length of Password: 5\n",
      "Enter Complexity of Password With 1 being Low Complexity and 2 for High complexity: 1\n",
      "Random Generated Password is: 7qvh6\n"
     ]
    }
   ],
   "source": [
    "import random\n",
    "import string\n",
    "print(\"Recommendations for Password length Should be Greater than 4\")\n",
    "length=int(input(\"Enter Length of Password: \"))\n",
    "complexity=int(input(\"Enter Complexity of Password With 1 being Low Complexity and 2 for High complexity: \"))\n",
    "\n",
    "def generate_password_high_complex(length):\n",
    "    characters = string.ascii_lowercase + string.digits + string.punctuation\n",
    "    \n",
    "    password = ''.join(random.choice(characters) for _ in range(length))\n",
    "    \n",
    "    return password\n",
    "\n",
    "def generate_password_low_complex(length):\n",
    "    characters = string.ascii_lowercase + string.digits\n",
    "    \n",
    "    password = ''.join(random.choice(characters) for _ in range(length))\n",
    "    \n",
    "    return password\n",
    "\n",
    "if(complexity==1):\n",
    "    password=generate_password_low_complex(length)\n",
    "    print(f\"Random Generated Password is: {password}\")\n",
    "          \n",
    "if(complexity==2):\n",
    "    password=generate_password_high_complex(length)\n",
    "    print(f\"Random Generated Password is: {password}\")\n",
    "          "
   ]
  }
 ],
 "metadata": {
  "kernelspec": {
   "display_name": "Python 3 (ipykernel)",
   "language": "python",
   "name": "python3"
  },
  "language_info": {
   "codemirror_mode": {
    "name": "ipython",
    "version": 3
   },
   "file_extension": ".py",
   "mimetype": "text/x-python",
   "name": "python",
   "nbconvert_exporter": "python",
   "pygments_lexer": "ipython3",
   "version": "3.11.4"
  }
 },
 "nbformat": 4,
 "nbformat_minor": 5
}
