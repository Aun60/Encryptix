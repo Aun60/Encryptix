{
 "cells": [
  {
   "cell_type": "code",
   "execution_count": 2,
   "id": "72395be0",
   "metadata": {},
   "outputs": [
    {
     "name": "stdout",
     "output_type": "stream",
     "text": [
      "Enter The First Number for Arithmetic Operation: 4\n",
      "Enter The Second Number for Arithmetic Operation: 5\n",
      "Choose 1 for Add ,2 for Subtract, 3 for Multiply, 4 for Divide3\n",
      "20\n"
     ]
    }
   ],
   "source": [
    "num1=int(input(\"Enter The First Number for Arithmetic Operation: \"))\n",
    "num2=int(input(\"Enter The Second Number for Arithmetic Operation: \"))\n",
    "choice=int(input(\"Choose 1 for Add ,2 for Subtract, 3 for Multiply, 4 for Divide\"))\n",
    "if(choice==1):\n",
    "    result=num1+num2\n",
    "    print(result)\n",
    "if(choice==2):\n",
    "    result=num1-num2\n",
    "    print(result)\n",
    "if(choice==3):\n",
    "    result=num1*num2\n",
    "    print(result)\n",
    "if(choice==4):\n",
    "    result=num1/num2\n",
    "    print(result)\n",
    "    "
   ]
  },
  {
   "cell_type": "code",
   "execution_count": null,
   "id": "a2ea82e4",
   "metadata": {},
   "outputs": [],
   "source": []
  }
 ],
 "metadata": {
  "kernelspec": {
   "display_name": "Python 3 (ipykernel)",
   "language": "python",
   "name": "python3"
  },
  "language_info": {
   "codemirror_mode": {
    "name": "ipython",
    "version": 3
   },
   "file_extension": ".py",
   "mimetype": "text/x-python",
   "name": "python",
   "nbconvert_exporter": "python",
   "pygments_lexer": "ipython3",
   "version": "3.11.4"
  }
 },
 "nbformat": 4,
 "nbformat_minor": 5
}
