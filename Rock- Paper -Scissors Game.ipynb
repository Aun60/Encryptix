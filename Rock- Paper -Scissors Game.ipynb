{
 "cells": [
  {
   "cell_type": "code",
   "execution_count": 1,
   "id": "c2bace28",
   "metadata": {},
   "outputs": [
    {
     "name": "stdout",
     "output_type": "stream",
     "text": [
      "Welcome to ROCK-PAPER-SCISSORS GAME \n",
      "HOPE YOU WILL ENJOY\n",
      "Enter 1 for Rock, 2 for paper, 3 for scissors: 3\n",
      "User Won\n",
      "User Choose Scissors\n",
      "Computer Choose Paper\n",
      "Do You want to play Again? 1 for Yes and 2 for No: 2\n",
      "It was Fun Playing with you, Come Back again Soon\n"
     ]
    }
   ],
   "source": [
    "import random\n",
    "print(\"Welcome to ROCK-PAPER-SCISSORS GAME \\nHOPE YOU WILL ENJOY\")\n",
    "\n",
    "\n",
    "com_choice = random.randint(1, 3)\n",
    "condition=True\n",
    "\n",
    "while condition:\n",
    "    user_choice=int(input(\"Enter 1 for Rock, 2 for paper, 3 for scissors: \"))\n",
    "    \n",
    "    while user_choice not in [1, 2, 3]:\n",
    "        print(\"Invalid choice, please try again.\")\n",
    "    \n",
    "    if (user_choice == 1 and com_choice == 3) or (user_choice == 3 and com_choice == 2) or (user_choice == 2 and com_choice == 1):\n",
    "        print(\"User Won\")\n",
    "    elif user_choice == com_choice:\n",
    "        print(\"It's a Tie\")\n",
    "    else:\n",
    "        print(\"Computer Won\")\n",
    "        \n",
    "    if(user_choice==1):\n",
    "        print(\"User Choose Rock\")\n",
    "    if(user_choice==2):\n",
    "        print(\"User Choose Paper\")\n",
    "    if(user_choice==3):\n",
    "        print(\"User Choose Scissors\")\n",
    "\n",
    "    if(com_choice==1):\n",
    "        print(\"Computer Choose Rock\")\n",
    "    if(com_choice==2):\n",
    "        print(\"Computer Choose Paper\")\n",
    "    if(com_choice==3):\n",
    "        print(\"Computer Choose Scissors\")\n",
    "\n",
    "    choice=int(input(\"Do You want to play Again? 1 for Yes and 2 for No: \"))\n",
    "    if(choice==1):\n",
    "        condition=True\n",
    "    if(choice==2):\n",
    "        condition=False    \n",
    "    while choice not in [1, 2]:\n",
    "        print(\"Invalid choice, please try again.\")    \n",
    "print(\"It was Fun Playing with you, Come Back again Soon\")        "
   ]
  },
  {
   "cell_type": "code",
   "execution_count": null,
   "id": "dbaab2ef",
   "metadata": {},
   "outputs": [],
   "source": []
  }
 ],
 "metadata": {
  "kernelspec": {
   "display_name": "Python 3 (ipykernel)",
   "language": "python",
   "name": "python3"
  },
  "language_info": {
   "codemirror_mode": {
    "name": "ipython",
    "version": 3
   },
   "file_extension": ".py",
   "mimetype": "text/x-python",
   "name": "python",
   "nbconvert_exporter": "python",
   "pygments_lexer": "ipython3",
   "version": "3.11.4"
  }
 },
 "nbformat": 4,
 "nbformat_minor": 5
}
